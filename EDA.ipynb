{
 "cells": [
  {
   "cell_type": "code",
   "execution_count": 2,
   "metadata": {},
   "outputs": [],
   "source": [
    "import pandas as pd\n",
    "import numpy as np\n",
    "import matplotlib.pyplot as plt\n",
    "import seaborn as sns"
   ]
  },
  {
   "cell_type": "markdown",
   "metadata": {},
   "source": [
    "# Info about poki.csv\n",
    "\n",
    "id = unique identifier for each poem<br />\n",
    "title = title of poem (submitted by poem author)<br />\n",
    "author = first name of author<br />\n",
    "grade = school grade (1-12)<br />\n",
    "text = raw poem text<br />\n",
    "char = number of characters<br />"
   ]
  },
  {
   "cell_type": "code",
   "execution_count": 6,
   "metadata": {},
   "outputs": [
    {
     "data": {
      "text/html": [
       "<div>\n",
       "<style scoped>\n",
       "    .dataframe tbody tr th:only-of-type {\n",
       "        vertical-align: middle;\n",
       "    }\n",
       "\n",
       "    .dataframe tbody tr th {\n",
       "        vertical-align: top;\n",
       "    }\n",
       "\n",
       "    .dataframe thead th {\n",
       "        text-align: right;\n",
       "    }\n",
       "</style>\n",
       "<table border=\"1\" class=\"dataframe\">\n",
       "  <thead>\n",
       "    <tr style=\"text-align: right;\">\n",
       "      <th></th>\n",
       "      <th>id</th>\n",
       "      <th>title</th>\n",
       "      <th>author</th>\n",
       "      <th>grade</th>\n",
       "      <th>text</th>\n",
       "      <th>char</th>\n",
       "    </tr>\n",
       "  </thead>\n",
       "  <tbody>\n",
       "    <tr>\n",
       "      <th>18553</th>\n",
       "      <td>13985</td>\n",
       "      <td>My Fish</td>\n",
       "      <td>melissa</td>\n",
       "      <td>4</td>\n",
       "      <td>i went fishing with my dad and now he is so sa...</td>\n",
       "      <td>120</td>\n",
       "    </tr>\n",
       "    <tr>\n",
       "      <th>30249</th>\n",
       "      <td>13987</td>\n",
       "      <td>My Limerick</td>\n",
       "      <td>nadia</td>\n",
       "      <td>5</td>\n",
       "      <td>there once was a bird named ''tweety'',   ever...</td>\n",
       "      <td>175</td>\n",
       "    </tr>\n",
       "    <tr>\n",
       "      <th>5140</th>\n",
       "      <td>13989</td>\n",
       "      <td>I FOUND A LARGE SNAKE</td>\n",
       "      <td>brandon</td>\n",
       "      <td>3</td>\n",
       "      <td>i found a large snake, &lt;br/&gt;\\nwhose home was i...</td>\n",
       "      <td>129</td>\n",
       "    </tr>\n",
       "    <tr>\n",
       "      <th>26749</th>\n",
       "      <td>13990</td>\n",
       "      <td>A Sleepy Mouse</td>\n",
       "      <td>jannat</td>\n",
       "      <td>5</td>\n",
       "      <td>when i awoke one morning,  a mouse sat on my h...</td>\n",
       "      <td>221</td>\n",
       "    </tr>\n",
       "    <tr>\n",
       "      <th>23199</th>\n",
       "      <td>13992</td>\n",
       "      <td>A Brother</td>\n",
       "      <td>blake</td>\n",
       "      <td>5</td>\n",
       "      <td>they crawl around wild,  they act so much like...</td>\n",
       "      <td>186</td>\n",
       "    </tr>\n",
       "  </tbody>\n",
       "</table>\n",
       "</div>"
      ],
      "text/plain": [
       "          id                  title   author  grade  \\\n",
       "18553  13985                My Fish  melissa      4   \n",
       "30249  13987            My Limerick    nadia      5   \n",
       "5140   13989  I FOUND A LARGE SNAKE  brandon      3   \n",
       "26749  13990         A Sleepy Mouse   jannat      5   \n",
       "23199  13992              A Brother    blake      5   \n",
       "\n",
       "                                                    text  char  \n",
       "18553  i went fishing with my dad and now he is so sa...   120  \n",
       "30249  there once was a bird named ''tweety'',   ever...   175  \n",
       "5140   i found a large snake, <br/>\\nwhose home was i...   129  \n",
       "26749  when i awoke one morning,  a mouse sat on my h...   221  \n",
       "23199  they crawl around wild,  they act so much like...   186  "
      ]
     },
     "execution_count": 6,
     "metadata": {},
     "output_type": "execute_result"
    }
   ],
   "source": [
    "poki = pd.read_csv('poki.csv')\n",
    "poki.sort_values(by=['id'], inplace=True)\n",
    "poki.head()"
   ]
  },
  {
   "cell_type": "markdown",
   "metadata": {},
   "source": [
    "# Info about poki-lem.csv\n",
    "\n",
    "\n",
    "\n",
    "Description: Lemmatized version of PoKi. We used lemmatization tools in the Natural Language Toolkit (http://www.nltk.org/) to lemmatize poem text (e.g., running, ran, runs -> run | writing, wrote, writes -> write). This dataset contains the same columns as in poki.csv, where 'text' now contains lemmatized text.\n",
    "\n",
    "\n",
    "\n",
    "\n",
    "Lemmatisation in linguistics is the process of grouping together the inflected forms of a word so they can be analysed as a single item, identified by the word's lemma, or dictionary form."
   ]
  },
  {
   "cell_type": "code",
   "execution_count": 8,
   "metadata": {},
   "outputs": [
    {
     "data": {
      "text/html": [
       "<div>\n",
       "<style scoped>\n",
       "    .dataframe tbody tr th:only-of-type {\n",
       "        vertical-align: middle;\n",
       "    }\n",
       "\n",
       "    .dataframe tbody tr th {\n",
       "        vertical-align: top;\n",
       "    }\n",
       "\n",
       "    .dataframe thead th {\n",
       "        text-align: right;\n",
       "    }\n",
       "</style>\n",
       "<table border=\"1\" class=\"dataframe\">\n",
       "  <thead>\n",
       "    <tr style=\"text-align: right;\">\n",
       "      <th></th>\n",
       "      <th>Unnamed: 0</th>\n",
       "      <th>id</th>\n",
       "      <th>title</th>\n",
       "      <th>author</th>\n",
       "      <th>grade</th>\n",
       "      <th>char</th>\n",
       "      <th>text</th>\n",
       "    </tr>\n",
       "  </thead>\n",
       "  <tbody>\n",
       "    <tr>\n",
       "      <th>0</th>\n",
       "      <td>0</td>\n",
       "      <td>104987</td>\n",
       "      <td>I Love The Zoo</td>\n",
       "      <td>NaN</td>\n",
       "      <td>1</td>\n",
       "      <td>62.0</td>\n",
       "      <td>rose be red violet be blue i love the zoo do you</td>\n",
       "    </tr>\n",
       "    <tr>\n",
       "      <th>1</th>\n",
       "      <td>1</td>\n",
       "      <td>67185</td>\n",
       "      <td>The scary forest.</td>\n",
       "      <td>NaN</td>\n",
       "      <td>1</td>\n",
       "      <td>87.0</td>\n",
       "      <td>the forest be really haunt i believe it to be ...</td>\n",
       "    </tr>\n",
       "    <tr>\n",
       "      <th>2</th>\n",
       "      <td>2</td>\n",
       "      <td>103555</td>\n",
       "      <td>A Hike At School</td>\n",
       "      <td>1st grade-wh</td>\n",
       "      <td>1</td>\n",
       "      <td>324.0</td>\n",
       "      <td>i take a hike at school today and this be what...</td>\n",
       "    </tr>\n",
       "    <tr>\n",
       "      <th>3</th>\n",
       "      <td>3</td>\n",
       "      <td>112483</td>\n",
       "      <td>Computer</td>\n",
       "      <td>a</td>\n",
       "      <td>1</td>\n",
       "      <td>106.0</td>\n",
       "      <td>you can do what you want you can play a game y...</td>\n",
       "    </tr>\n",
       "    <tr>\n",
       "      <th>4</th>\n",
       "      <td>4</td>\n",
       "      <td>74516</td>\n",
       "      <td>Angel</td>\n",
       "      <td>aab</td>\n",
       "      <td>1</td>\n",
       "      <td>164.0</td>\n",
       "      <td>angel oh angle you spin like a top angel oh an...</td>\n",
       "    </tr>\n",
       "  </tbody>\n",
       "</table>\n",
       "</div>"
      ],
      "text/plain": [
       "   Unnamed: 0      id              title        author grade   char  \\\n",
       "0           0  104987     I Love The Zoo           NaN     1   62.0   \n",
       "1           1   67185  The scary forest.           NaN     1   87.0   \n",
       "2           2  103555   A Hike At School  1st grade-wh     1  324.0   \n",
       "3           3  112483           Computer             a     1  106.0   \n",
       "4           4   74516              Angel           aab     1  164.0   \n",
       "\n",
       "                                                text  \n",
       "0   rose be red violet be blue i love the zoo do you  \n",
       "1  the forest be really haunt i believe it to be ...  \n",
       "2  i take a hike at school today and this be what...  \n",
       "3  you can do what you want you can play a game y...  \n",
       "4  angel oh angle you spin like a top angel oh an...  "
      ]
     },
     "execution_count": 8,
     "metadata": {},
     "output_type": "execute_result"
    }
   ],
   "source": [
    "poki_lem = pd.read_csv('poki-lem.csv')\n",
    "# poki_lem.sort_values(by=['id'], inplace=True)\n",
    "poki_lem.head()"
   ]
  },
  {
   "cell_type": "markdown",
   "metadata": {},
   "source": [
    "I can notice that certain words are different in poki-lem and poki as \"roses are red\" in poki whereas \"roses be red\" in poki-lem, so it can be interpreted that this is due to <b>Lemmatization</b>"
   ]
  },
  {
   "cell_type": "markdown",
   "metadata": {},
   "source": [
    "# Info about poki-analysis.csv\n",
    "\n",
    "id = unique identifier for each poem<br />\n",
    "grade = school grade (1-12)<br />\n",
    "author = first name of author<br />\n",
    "_sd = within poem standard deviation for emotion tokens<br />\n",
    "valence = mean valence<br />\n",
    "arousal = mean arousal<br />\n",
    "dominance = mean dominance<br />\n",
    "anger = mean anger<br />\n",
    "fear = mean fear<br />\n",
    "sadness = mean sadness<br />\n",
    "joy = mean joy<br />\n",
    "total_words = total number of non stop words within poem<br />\n",
    "gender = probable gender based on author name<br />"
   ]
  },
  {
   "cell_type": "code",
   "execution_count": 5,
   "metadata": {},
   "outputs": [
    {
     "data": {
      "text/html": [
       "<div>\n",
       "<style scoped>\n",
       "    .dataframe tbody tr th:only-of-type {\n",
       "        vertical-align: middle;\n",
       "    }\n",
       "\n",
       "    .dataframe tbody tr th {\n",
       "        vertical-align: top;\n",
       "    }\n",
       "\n",
       "    .dataframe thead th {\n",
       "        text-align: right;\n",
       "    }\n",
       "</style>\n",
       "<table border=\"1\" class=\"dataframe\">\n",
       "  <thead>\n",
       "    <tr style=\"text-align: right;\">\n",
       "      <th></th>\n",
       "      <th>id</th>\n",
       "      <th>grade</th>\n",
       "      <th>author</th>\n",
       "      <th>val_sd</th>\n",
       "      <th>aro_sd</th>\n",
       "      <th>dom_sd</th>\n",
       "      <th>anger_sd</th>\n",
       "      <th>fear_sd</th>\n",
       "      <th>sadness_sd</th>\n",
       "      <th>joy_sd</th>\n",
       "      <th>valence</th>\n",
       "      <th>arousal</th>\n",
       "      <th>dominance</th>\n",
       "      <th>anger</th>\n",
       "      <th>fear</th>\n",
       "      <th>sadness</th>\n",
       "      <th>joy</th>\n",
       "      <th>total_words</th>\n",
       "      <th>gender</th>\n",
       "    </tr>\n",
       "  </thead>\n",
       "  <tbody>\n",
       "    <tr>\n",
       "      <th>0</th>\n",
       "      <td>13985</td>\n",
       "      <td>4</td>\n",
       "      <td>melissa</td>\n",
       "      <td>0.232184</td>\n",
       "      <td>0.121740</td>\n",
       "      <td>0.288507</td>\n",
       "      <td>NaN</td>\n",
       "      <td>NaN</td>\n",
       "      <td>NaN</td>\n",
       "      <td>NaN</td>\n",
       "      <td>0.596833</td>\n",
       "      <td>0.362667</td>\n",
       "      <td>0.442000</td>\n",
       "      <td>NaN</td>\n",
       "      <td>NaN</td>\n",
       "      <td>0.844</td>\n",
       "      <td>NaN</td>\n",
       "      <td>6</td>\n",
       "      <td>Female</td>\n",
       "    </tr>\n",
       "    <tr>\n",
       "      <th>1</th>\n",
       "      <td>13987</td>\n",
       "      <td>5</td>\n",
       "      <td>nadia</td>\n",
       "      <td>0.293415</td>\n",
       "      <td>0.193891</td>\n",
       "      <td>0.194279</td>\n",
       "      <td>NaN</td>\n",
       "      <td>NaN</td>\n",
       "      <td>NaN</td>\n",
       "      <td>NaN</td>\n",
       "      <td>0.604000</td>\n",
       "      <td>0.410400</td>\n",
       "      <td>0.473800</td>\n",
       "      <td>NaN</td>\n",
       "      <td>NaN</td>\n",
       "      <td>NaN</td>\n",
       "      <td>0.788000</td>\n",
       "      <td>5</td>\n",
       "      <td>Female</td>\n",
       "    </tr>\n",
       "    <tr>\n",
       "      <th>2</th>\n",
       "      <td>13989</td>\n",
       "      <td>3</td>\n",
       "      <td>brandon</td>\n",
       "      <td>0.328506</td>\n",
       "      <td>0.255830</td>\n",
       "      <td>0.172985</td>\n",
       "      <td>NaN</td>\n",
       "      <td>0.131522</td>\n",
       "      <td>NaN</td>\n",
       "      <td>0.231863</td>\n",
       "      <td>0.487000</td>\n",
       "      <td>0.501000</td>\n",
       "      <td>0.507875</td>\n",
       "      <td>NaN</td>\n",
       "      <td>0.869</td>\n",
       "      <td>0.797</td>\n",
       "      <td>0.306667</td>\n",
       "      <td>8</td>\n",
       "      <td>Male</td>\n",
       "    </tr>\n",
       "    <tr>\n",
       "      <th>3</th>\n",
       "      <td>13990</td>\n",
       "      <td>5</td>\n",
       "      <td>jannat</td>\n",
       "      <td>0.208608</td>\n",
       "      <td>0.186677</td>\n",
       "      <td>0.169186</td>\n",
       "      <td>NaN</td>\n",
       "      <td>NaN</td>\n",
       "      <td>NaN</td>\n",
       "      <td>0.375474</td>\n",
       "      <td>0.587600</td>\n",
       "      <td>0.349400</td>\n",
       "      <td>0.410100</td>\n",
       "      <td>NaN</td>\n",
       "      <td>NaN</td>\n",
       "      <td>NaN</td>\n",
       "      <td>0.515500</td>\n",
       "      <td>10</td>\n",
       "      <td>Female</td>\n",
       "    </tr>\n",
       "    <tr>\n",
       "      <th>4</th>\n",
       "      <td>13992</td>\n",
       "      <td>5</td>\n",
       "      <td>blake</td>\n",
       "      <td>0.207633</td>\n",
       "      <td>0.181070</td>\n",
       "      <td>0.145530</td>\n",
       "      <td>NaN</td>\n",
       "      <td>NaN</td>\n",
       "      <td>NaN</td>\n",
       "      <td>0.178011</td>\n",
       "      <td>0.723800</td>\n",
       "      <td>0.530800</td>\n",
       "      <td>0.604100</td>\n",
       "      <td>NaN</td>\n",
       "      <td>NaN</td>\n",
       "      <td>0.016</td>\n",
       "      <td>0.456000</td>\n",
       "      <td>10</td>\n",
       "      <td>Ambiguous</td>\n",
       "    </tr>\n",
       "  </tbody>\n",
       "</table>\n",
       "</div>"
      ],
      "text/plain": [
       "      id  grade   author    val_sd    aro_sd    dom_sd  anger_sd   fear_sd  \\\n",
       "0  13985      4  melissa  0.232184  0.121740  0.288507       NaN       NaN   \n",
       "1  13987      5    nadia  0.293415  0.193891  0.194279       NaN       NaN   \n",
       "2  13989      3  brandon  0.328506  0.255830  0.172985       NaN  0.131522   \n",
       "3  13990      5   jannat  0.208608  0.186677  0.169186       NaN       NaN   \n",
       "4  13992      5    blake  0.207633  0.181070  0.145530       NaN       NaN   \n",
       "\n",
       "   sadness_sd    joy_sd   valence   arousal  dominance  anger   fear  sadness  \\\n",
       "0         NaN       NaN  0.596833  0.362667   0.442000    NaN    NaN    0.844   \n",
       "1         NaN       NaN  0.604000  0.410400   0.473800    NaN    NaN      NaN   \n",
       "2         NaN  0.231863  0.487000  0.501000   0.507875    NaN  0.869    0.797   \n",
       "3         NaN  0.375474  0.587600  0.349400   0.410100    NaN    NaN      NaN   \n",
       "4         NaN  0.178011  0.723800  0.530800   0.604100    NaN    NaN    0.016   \n",
       "\n",
       "        joy  total_words     gender  \n",
       "0       NaN            6     Female  \n",
       "1  0.788000            5     Female  \n",
       "2  0.306667            8       Male  \n",
       "3  0.515500           10     Female  \n",
       "4  0.456000           10  Ambiguous  "
      ]
     },
     "execution_count": 5,
     "metadata": {},
     "output_type": "execute_result"
    }
   ],
   "source": [
    "poki_analysis = pd.read_csv('poki-analysis.csv')\n",
    "poki_analysis.head()"
   ]
  },
  {
   "cell_type": "code",
   "execution_count": 15,
   "metadata": {},
   "outputs": [
    {
     "data": {
      "text/plain": [
       "list"
      ]
     },
     "execution_count": 15,
     "metadata": {},
     "output_type": "execute_result"
    }
   ],
   "source": [
    "type(poki['grade'].values.tolist())"
   ]
  },
  {
   "cell_type": "code",
   "execution_count": 27,
   "metadata": {},
   "outputs": [
    {
     "data": {
      "image/png": "[encoded data removed]",
      "text/plain": [
       "<Figure size 432x288 with 1 Axes>"
      ]
     },
     "metadata": {
      "needs_background": "light"
     },
     "output_type": "display_data"
    }
   ],
   "source": [
    "plt.bar( poki_analysis['grade'].values.tolist(),poki_analysis['dominance'].values.tolist(), label=\"Dom - Grade\")\n",
    "plt.xlabel('Grade')\n",
    "plt.ylabel('Dominance')\n",
    "plt.show()"
   ]
  },
  {
   "cell_type": "code",
   "execution_count": 37,
   "metadata": {},
   "outputs": [
    {
     "data": {
      "image/png": "[encoded data removed]",
      "text/plain": [
       "<Figure size 432x288 with 1 Axes>"
      ]
     },
     "metadata": {
      "needs_background": "light"
     },
     "output_type": "display_data"
    }
   ],
   "source": [
    "plt.bar( poki_analysis['dominance'].values.tolist(),poki_analysis['dom_sd'].values.tolist())\n",
    "plt.xlabel('Dominance')\n",
    "plt.ylabel('ValenceSTD')\n",
    "plt.show()"
   ]
  },
  {
   "cell_type": "markdown",
   "metadata": {},
   "source": [
    "Mean dominance in poems throughout the grades is greater than 0.8 and "
   ]
  },
  {
   "cell_type": "code",
   "execution_count": 28,
   "metadata": {},
   "outputs": [
    {
     "data": {
      "image/png": "[encoded data removed]",
      "text/plain": [
       "<Figure size 432x288 with 1 Axes>"
      ]
     },
     "metadata": {
      "needs_background": "light"
     },
     "output_type": "display_data"
    }
   ],
   "source": [
    "plt.bar( poki_analysis['grade'].values.tolist(),poki_analysis['joy'].values.tolist(), label=\"Joy - Grade\")\n",
    "plt.xlabel('Grade')\n",
    "plt.ylabel('Joy')\n",
    "plt.show()"
   ]
  },
  {
   "cell_type": "code",
   "execution_count": 38,
   "metadata": {},
   "outputs": [
    {
     "data": {
      "image/png": "[encoded data removed]",
      "text/plain": [
       "<Figure size 432x288 with 1 Axes>"
      ]
     },
     "metadata": {
      "needs_background": "light"
     },
     "output_type": "display_data"
    }
   ],
   "source": [
    "plt.bar( poki_analysis['joy'].values.tolist(),poki_analysis['joy_sd'].values.tolist())\n",
    "plt.xlabel('Joy')\n",
    "plt.ylabel('Std')\n",
    "plt.show()"
   ]
  },
  {
   "cell_type": "code",
   "execution_count": 30,
   "metadata": {},
   "outputs": [
    {
     "data": {
      "image/png": "[encoded data removed]",
      "text/plain": [
       "<Figure size 432x288 with 1 Axes>"
      ]
     },
     "metadata": {
      "needs_background": "light"
     },
     "output_type": "display_data"
    }
   ],
   "source": [
    "plt.bar( poki_analysis['grade'].values.tolist(),poki_analysis['anger'].values.tolist(), label=\"Anger - Grade\")\n",
    "plt.xlabel('Grade')\n",
    "plt.ylabel('Anger')\n",
    "plt.show()"
   ]
  },
  {
   "cell_type": "code",
   "execution_count": 39,
   "metadata": {},
   "outputs": [
    {
     "data": {
      "image/png": "[encoded data removed]",
      "text/plain": [
       "<Figure size 432x288 with 1 Axes>"
      ]
     },
     "metadata": {
      "needs_background": "light"
     },
     "output_type": "display_data"
    }
   ],
   "source": [
    "plt.bar( poki_analysis['anger'].values.tolist(),poki_analysis['anger_sd'].values.tolist())\n",
    "plt.xlabel('Anger')\n",
    "plt.ylabel('Std')\n",
    "plt.show()"
   ]
  },
  {
   "cell_type": "code",
   "execution_count": 33,
   "metadata": {},
   "outputs": [
    {
     "data": {
      "image/png": "[encoded data removed]",
      "text/plain": [
       "<Figure size 432x288 with 1 Axes>"
      ]
     },
     "metadata": {
      "needs_background": "light"
     },
     "output_type": "display_data"
    }
   ],
   "source": [
    "plt.bar( poki_analysis['grade'].values.tolist(),poki_analysis['arousal'].values.tolist(), label=\"Arousal - Grade\")\n",
    "plt.xlabel('Grade')\n",
    "plt.ylabel('Arousal')\n",
    "plt.show()"
   ]
  },
  {
   "cell_type": "code",
   "execution_count": 40,
   "metadata": {},
   "outputs": [
    {
     "data": {
      "image/png": "[encoded data removed]",
      "text/plain": [
       "<Figure size 432x288 with 1 Axes>"
      ]
     },
     "metadata": {
      "needs_background": "light"
     },
     "output_type": "display_data"
    }
   ],
   "source": [
    "plt.bar( poki_analysis['arousal'].values.tolist(),poki_analysis['aro_sd'].values.tolist())\n",
    "plt.xlabel('Arousal')\n",
    "plt.ylabel('Std')\n",
    "plt.show()"
   ]
  },
  {
   "cell_type": "code",
   "execution_count": 35,
   "metadata": {},
   "outputs": [
    {
     "data": {
      "image/png": "[encoded data removed]",
      "text/plain": [
       "<Figure size 432x288 with 1 Axes>"
      ]
     },
     "metadata": {
      "needs_background": "light"
     },
     "output_type": "display_data"
    }
   ],
   "source": [
    "plt.bar( poki_analysis['grade'].values.tolist(),poki_analysis['valence'].values.tolist(), label=\"Valence - Grade\")\n",
    "plt.xlabel('Grade')\n",
    "plt.ylabel('Valence')\n",
    "plt.show()"
   ]
  },
  {
   "cell_type": "code",
   "execution_count": 41,
   "metadata": {},
   "outputs": [
    {
     "data": {
      "image/png": "[encoded data removed]",
      "text/plain": [
       "<Figure size 432x288 with 1 Axes>"
      ]
     },
     "metadata": {
      "needs_background": "light"
     },
     "output_type": "display_data"
    }
   ],
   "source": [
    "plt.bar( poki_analysis['valence'].values.tolist(),poki_analysis['val_sd'].values.tolist())\n",
    "plt.xlabel('Valence')\n",
    "plt.ylabel('Std')\n",
    "plt.show()"
   ]
  },
  {
   "cell_type": "code",
   "execution_count": 42,
   "metadata": {},
   "outputs": [
    {
     "data": {
      "image/png": "[encoded data removed]",
      "text/plain": [
       "<Figure size 432x288 with 1 Axes>"
      ]
     },
     "metadata": {
      "needs_background": "light"
     },
     "output_type": "display_data"
    }
   ],
   "source": [
    "plt.bar( poki_analysis['grade'].values.tolist(),poki_analysis['fear'].values.tolist())\n",
    "plt.xlabel('Grade')\n",
    "plt.ylabel('Fear')\n",
    "plt.show()"
   ]
  },
  {
   "cell_type": "code",
   "execution_count": 43,
   "metadata": {},
   "outputs": [
    {
     "data": {
      "image/png": "[encoded data removed]",
      "text/plain": [
       "<Figure size 432x288 with 1 Axes>"
      ]
     },
     "metadata": {
      "needs_background": "light"
     },
     "output_type": "display_data"
    }
   ],
   "source": [
    "plt.bar( poki_analysis['fear'].values.tolist(),poki_analysis['fear_sd'].values.tolist())\n",
    "plt.xlabel('Fear')\n",
    "plt.ylabel('Std')\n",
    "plt.show()"
   ]
  },
  {
   "cell_type": "code",
   "execution_count": 50,
   "metadata": {},
   "outputs": [
    {
     "data": {
      "text/plain": [
       "(array([ 454., 1006., 2003., 3111., 3715., 4045., 4122., 3938., 3608.,\n",
       "        3270., 3112., 2879., 2490., 2252., 2127., 1904., 1675., 1352.,\n",
       "        1319., 1159., 1095., 1030.,  863.,  752.,  689.,  622.,  570.,\n",
       "         514.,  472.,  416.,  369.,  324.,  331.,  319.,  281.,  254.,\n",
       "         230.,  208.,  156.,  156.,  159.,  117.,  135.,  117.,  125.,\n",
       "          92.,   73.,  158.]),\n",
       " array([ 1,  2,  3,  4,  5,  6,  7,  8,  9, 10, 11, 12, 13, 14, 15, 16, 17,\n",
       "        18, 19, 20, 21, 22, 23, 24, 25, 26, 27, 28, 29, 30, 31, 32, 33, 34,\n",
       "        35, 36, 37, 38, 39, 40, 41, 42, 43, 44, 45, 46, 47, 48, 49]),\n",
       " <a list of 48 Patch objects>)"
      ]
     },
     "execution_count": 50,
     "metadata": {},
     "output_type": "execute_result"
    },
    {
     "data": {
      "image/png": "[encoded data removed]",
      "text/plain": [
       "<Figure size 432x288 with 1 Axes>"
      ]
     },
     "metadata": {
      "needs_background": "light"
     },
     "output_type": "display_data"
    }
   ],
   "source": [
    "plt.hist(poki_analysis['total_words'], bins=list(range(1, 50)), histtype='bar', rwidth=0.8)"
   ]
  },
  {
   "cell_type": "markdown",
   "metadata": {},
   "source": [
    "The poems with 5-12 words were most common poems to be taught"
   ]
  },
  {
   "cell_type": "code",
   "execution_count": null,
   "metadata": {},
   "outputs": [],
   "source": []
  }
 ],
 "metadata": {
  "kernelspec": {
   "display_name": "Python 3.6.9 64-bit",
   "language": "python",
   "name": "python36964bit5f10b327a3e84ecc94951f6aaf97b8b3"
  },
  "language_info": {
   "codemirror_mode": {
    "name": "ipython",
    "version": 3
   },
   "file_extension": ".py",
   "mimetype": "text/x-python",
   "name": "python",
   "nbconvert_exporter": "python",
   "pygments_lexer": "ipython3",
   "version": "3.6.9"
  }
 },
 "nbformat": 4,
 "nbformat_minor": 4
}
